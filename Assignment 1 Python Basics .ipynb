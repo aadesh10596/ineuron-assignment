{
 "cells": [
  {
   "cell_type": "markdown",
   "id": "3875bb62",
   "metadata": {},
   "source": [
    "1. In the below elements which of them are values or an expression? eg:- values can be\n",
    "\n",
    "Answer:\n",
    "integer or string and expressions will be mathematical operators.\n",
    "\n",
    "Answer:\n",
    "\n",
    "*  =  expression\n",
    "\n",
    "'hello' = values\n",
    "\n",
    "-87.8  = values\n",
    "\n",
    "-     =  expression\n",
    "\n",
    "/     =  expression\n",
    "\n",
    "+     =  expression\n",
    "\n",
    "6     =  values"
   ]
  },
  {
   "cell_type": "markdown",
   "id": "bf3da732",
   "metadata": {},
   "source": [
    "2. What is the difference between string and variable?\n",
    "\n",
    "Answer: \n",
    "String represents text values which can be stored in variable. String is one type of data types alike integer, float etc.\n",
    "\n",
    "variable is used to store any values in particular memory location. \n",
    "\n"
   ]
  },
  {
   "cell_type": "markdown",
   "id": "aac58494",
   "metadata": {},
   "source": [
    "3. Describe three different data types.\n",
    "\n",
    "Answer:\n",
    "There are many data types few are listed below:\n",
    "\n",
    "Integer - all the numbers are integer data type.\n",
    "\n",
    "Float - Values which has decimal numbers are float data type\n",
    "\n",
    "Boolean - Boolean data type has value True or False\n",
    "\n"
   ]
  },
  {
   "cell_type": "markdown",
   "id": "481574d7",
   "metadata": {},
   "source": [
    "4. What is an expression made up of? What do all expressions do?\n",
    "\n",
    "Answer: \n",
    "Expression is made up of variable, mathematical operators etc. Expression is used to solve mathematical operations. \n"
   ]
  },
  {
   "cell_type": "markdown",
   "id": "be66bd5a",
   "metadata": {},
   "source": [
    "5. This assignment statements, like spam = 10. What is the difference between an expression and a statement?\n",
    "\n",
    "Answer:\n",
    "Expression can be solved to get values. But statements cannot be solved to get values. Assignment statements are used to assign a value to the variable.Every expression can't be a statement. Every statement can be an expression\n",
    "\n",
    "2 * 2　　　　　　　  　#expression\n",
    "print(2 * 2)　　　　　#statement"
   ]
  },
  {
   "cell_type": "markdown",
   "id": "301a9a33",
   "metadata": {},
   "source": [
    "6. After running the following code, what does the variable bacon contain?\n",
    "bacon = 22\n",
    "bacon + 1\n",
    "\n",
    "Answer:\n",
    "bacon = 23"
   ]
  },
  {
   "cell_type": "markdown",
   "id": "39d3ff26",
   "metadata": {},
   "source": [
    "7. What should the values of the following two terms be?\n",
    "\n",
    "'spam' + 'spamspam'\n",
    "'spam'*3\n",
    "\n",
    "Answer:\n",
    "\n",
    "'spamspamspam'\n",
    "'spamspamspam'"
   ]
  },
  {
   "cell_type": "markdown",
   "id": "c4fc2c25",
   "metadata": {},
   "source": [
    "8. Why is eggs a valid variable name while 100 is invalid? \n",
    "\n",
    "Answer:\n",
    "eggs can be variable but numbers cannot be variable."
   ]
  },
  {
   "cell_type": "markdown",
   "id": "bf1094d2",
   "metadata": {},
   "source": [
    "9. What three functions can be used to get the integer, floating-point number, or string version of a value?\n",
    "\n",
    "Answer:\n",
    "int(), float() and str() function can be used to get integer, float, string value"
   ]
  },
  {
   "cell_type": "markdown",
   "id": "30b24d42",
   "metadata": {},
   "source": [
    "10. Why does this expression cause an error? How can you fix it?\n",
    "'I have eaten' + 99 + 'burritos'\n",
    "\n",
    "Answer:\n",
    "\n",
    "String can be concatenated with string and not with integers.\n",
    "\n",
    "Correct Expression will be \n",
    "'I have eaten' + str(99) + 'burritos'\n",
    "\n",
    "\n"
   ]
  },
  {
   "cell_type": "code",
   "execution_count": 12,
   "id": "fcce1526",
   "metadata": {},
   "outputs": [
    {
     "data": {
      "text/plain": [
       "'I have eaten99burritos'"
      ]
     },
     "execution_count": 12,
     "metadata": {},
     "output_type": "execute_result"
    }
   ],
   "source": [
    "'I have eaten' + str(99) + 'burritos'"
   ]
  },
  {
   "cell_type": "code",
   "execution_count": null,
   "id": "f1acde19",
   "metadata": {},
   "outputs": [],
   "source": []
  }
 ],
 "metadata": {
  "kernelspec": {
   "display_name": "Python 3 (ipykernel)",
   "language": "python",
   "name": "python3"
  },
  "language_info": {
   "codemirror_mode": {
    "name": "ipython",
    "version": 3
   },
   "file_extension": ".py",
   "mimetype": "text/x-python",
   "name": "python",
   "nbconvert_exporter": "python",
   "pygments_lexer": "ipython3",
   "version": "3.9.12"
  }
 },
 "nbformat": 4,
 "nbformat_minor": 5
}
