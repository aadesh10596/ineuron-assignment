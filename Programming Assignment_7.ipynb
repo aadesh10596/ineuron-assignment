{
 "cells": [
  {
   "cell_type": "markdown",
   "id": "a8768225",
   "metadata": {},
   "source": [
    "Write a Python Program to find sum of array?"
   ]
  },
  {
   "cell_type": "code",
   "execution_count": 8,
   "id": "2da9f0f7",
   "metadata": {},
   "outputs": [
    {
     "name": "stdout",
     "output_type": "stream",
     "text": [
      "Enter the elements of the array separated by space: 1 3256 365 3\n",
      "[1, 3256, 365, 3]\n",
      "The sum of the array [1, 3256, 365, 3] is 3625\n"
     ]
    }
   ],
   "source": [
    "\n",
    "arr = input(\"Enter the elements of the array separated by space: \").split()\n",
    "\n",
    "arr = [int(i) for i in arr]\n",
    "print(arr)\n",
    "sum = 0\n",
    "for i in arr:\n",
    "    sum += i\n",
    "    \n",
    "print(f\"The sum of the array {arr} is {sum}\")\n"
   ]
  },
  {
   "cell_type": "markdown",
   "id": "21ef5e88",
   "metadata": {},
   "source": [
    "Write a Python Program to find largest element in an array?"
   ]
  },
  {
   "cell_type": "code",
   "execution_count": 9,
   "id": "53ea51d6",
   "metadata": {},
   "outputs": [
    {
     "name": "stdout",
     "output_type": "stream",
     "text": [
      "Enter the elements of the array separated by space: 1 23 546 445 56\n",
      "The largest element in the array [1, 23, 546, 445, 56] is 546\n"
     ]
    }
   ],
   "source": [
    "arr = input(\"Enter the elements of the array separated by space: \").split()\n",
    "\n",
    "arr = [int(i) for i in arr]\n",
    "\n",
    "largest = arr[0]\n",
    "for i in arr:\n",
    "    if i > largest:\n",
    "        largest = i\n",
    "\n",
    "print(f\"The largest element in the array {arr} is {largest}\")\n"
   ]
  },
  {
   "cell_type": "markdown",
   "id": "35f42482",
   "metadata": {},
   "source": [
    "Write a Python Program for array rotation?"
   ]
  },
  {
   "cell_type": "code",
   "execution_count": 10,
   "id": "3cfd6547",
   "metadata": {},
   "outputs": [
    {
     "name": "stdout",
     "output_type": "stream",
     "text": [
      "Enter the elements of the array separated by space: 1 23 56 88 996 7852\n",
      "Enter the number of rotations: 2\n",
      "The original array is [1, 23, 56, 88, 996, 7852]\n",
      "The rotated array is [56, 88, 996, 7852, 1, 23]\n"
     ]
    }
   ],
   "source": [
    "arr = input(\"Enter the elements of the array separated by space: \").split()\n",
    "\n",
    "arr = [int(i) for i in arr]\n",
    "\n",
    "\n",
    "num_rotations = int(input(\"Enter the number of rotations: \"))\n",
    "\n",
    "rotated_arr = arr[num_rotations:] + arr[:num_rotations]\n",
    "\n",
    "print(f\"The original array is {arr}\")\n",
    "print(f\"The rotated array is {rotated_arr}\")\n"
   ]
  },
  {
   "cell_type": "markdown",
   "id": "199872c5",
   "metadata": {},
   "source": [
    "Write a Python Program to Split the array and add the first part to the end?"
   ]
  },
  {
   "cell_type": "code",
   "execution_count": 3,
   "id": "878b869a",
   "metadata": {},
   "outputs": [
    {
     "name": "stdout",
     "output_type": "stream",
     "text": [
      "Enter the elements of the array separated by space: 1 25 366 856 74 56\n",
      "Enter the position to split the array: 3\n",
      "The original array is [1, 25, 366, 856, 74, 56]\n",
      "The rotated array is [856, 74, 56, 1, 25, 366]\n"
     ]
    }
   ],
   "source": [
    "\n",
    "arr = input(\"Enter the elements of the array separated by space: \").split()\n",
    "\n",
    "arr = [int(i) for i in arr]\n",
    "\n",
    "split_pos = int(input(\"Enter the position to split the array: \"))\n",
    "\n",
    "first_part = arr[:split_pos]\n",
    "second_part = arr[split_pos:]\n",
    "\n",
    "rotated_arr = second_part + first_part\n",
    "\n",
    "print(f\"The original array is {arr}\")\n",
    "print(f\"The rotated array is {rotated_arr}\")\n",
    "\n"
   ]
  },
  {
   "cell_type": "markdown",
   "id": "7872c1f1",
   "metadata": {},
   "source": [
    "Write a Python Program to check if given array is Monotonic?"
   ]
  },
  {
   "cell_type": "code",
   "execution_count": null,
   "id": "86c35a81",
   "metadata": {},
   "outputs": [],
   "source": [
    "\n",
    "arr = input(\"Enter the elements of the array separated by space: \").split()\n",
    "\n",
    "arr = [int(i) for i in arr]\n",
    "\n",
    "is_increasing = True\n",
    "is_decreasing = True\n",
    "\n",
    "for i in range(len(arr) - 1):\n",
    "    if arr[i] > arr[i+1]:\n",
    "        is_increasing = False\n",
    "    if arr[i] < arr[i+1]:\n",
    "        is_decreasing = False\n",
    "        \n",
    "if is_increasing or is_decreasing:\n",
    "    print(\"The array is monotonic\")\n",
    "else:\n",
    "    print(\"The array is not monotonic\")"
   ]
  },
  {
   "cell_type": "code",
   "execution_count": null,
   "id": "1b9df8f6",
   "metadata": {},
   "outputs": [],
   "source": []
  }
 ],
 "metadata": {
  "kernelspec": {
   "display_name": "Python 3 (ipykernel)",
   "language": "python",
   "name": "python3"
  },
  "language_info": {
   "codemirror_mode": {
    "name": "ipython",
    "version": 3
   },
   "file_extension": ".py",
   "mimetype": "text/x-python",
   "name": "python",
   "nbconvert_exporter": "python",
   "pygments_lexer": "ipython3",
   "version": "3.10.9"
  }
 },
 "nbformat": 4,
 "nbformat_minor": 5
}
